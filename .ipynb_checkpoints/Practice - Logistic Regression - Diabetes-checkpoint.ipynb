{
 "cells": [
  {
   "cell_type": "markdown",
   "id": "41d23861-bcbc-4bbd-a0c2-a89cad6d7a9c",
   "metadata": {},
   "source": [
    "Import relevant modules"
   ]
  },
  {
   "cell_type": "code",
   "execution_count": 4,
   "id": "26bd9a0d-4898-47d2-b915-88cd77a8bb80",
   "metadata": {},
   "outputs": [],
   "source": [
    "import copy\n",
    "import math\n",
    "import numpy as np\n",
    "import pandas as pd\n",
    "import matplotlib.pyplot as plt"
   ]
  },
  {
   "cell_type": "markdown",
   "id": "37b4ce1c-b872-4125-bf6f-6ed18e24bb0f",
   "metadata": {},
   "source": [
    "Import the dataset. \n",
    "\n",
    "Since \"Missing values are believed to be encoded with zero values\" and there are a lot of training examples available, the entries with zero values have been removed from the dataset used to train the model."
   ]
  },
  {
   "cell_type": "code",
   "execution_count": 7,
   "id": "66195d91-10a8-43b1-8ebc-bc57d6231e8f",
   "metadata": {},
   "outputs": [
    {
     "name": "stdout",
     "output_type": "stream",
     "text": [
      "\n",
      "The dataset has 768 rows and 9 columns.\n",
      "\n",
      "First 5 rows of the dataset:\n",
      "   0    1   2   3    4     5      6   7  8\n",
      "0  6  148  72  35    0  33.6  0.627  50  1\n",
      "1  1   85  66  29    0  26.6  0.351  31  0\n",
      "2  8  183  64   0    0  23.3  0.672  32  1\n",
      "3  1   89  66  23   94  28.1  0.167  21  0\n",
      "4  0  137  40  35  168  43.1  2.288  33  1\n",
      "\n",
      "Last row of the dataset:\n",
      "     0   1   2   3  4     5      6   7  8\n",
      "767  1  93  70  31  0  30.4  0.315  23  0\n",
      "\n",
      "The dataset has 336 rows and 9 columns after removing rows with zeroes.\n",
      "\n",
      "First 5 rows after cleaning:\n",
      "    0    1   2   3    4     5      6   7  8\n",
      "3   1   89  66  23   94  28.1  0.167  21  0\n",
      "6   3   78  50  32   88  31.0  0.248  26  1\n",
      "8   2  197  70  45  543  30.5  0.158  53  1\n",
      "13  1  189  60  23  846  30.1  0.398  59  1\n",
      "14  5  166  72  19  175  25.8  0.587  51  1\n"
     ]
    }
   ],
   "source": [
    "import requests\n",
    "from io import StringIO\n",
    "\n",
    "# URL of the Pima Indians Diabetes dataset\n",
    "url = 'https://raw.githubusercontent.com/jbrownlee/Datasets/master/pima-indians-diabetes.csv'\n",
    "\n",
    "# Fetch the content of the file\n",
    "response = requests.get(url)\n",
    "\n",
    "# Check if the request was successful (status code 200)\n",
    "if response.status_code == 200:\n",
    "    # Convert the content to lines\n",
    "    lines = response.text.splitlines()\n",
    "\n",
    "    # Convert the lines to a Pandas DataFrame using StringIO\n",
    "    data = pd.read_csv(StringIO(response.text), header=None)\n",
    "    \n",
    "    # Display dataset properties\n",
    "    print(f\"\\nThe dataset has {data.shape[0]} rows and {data.shape[1]} columns.\")\n",
    "    \n",
    "    # Display the first 5 rows of the dataset\n",
    "    print(\"\\nFirst 5 rows of the dataset:\")\n",
    "    print(data.head())\n",
    "\n",
    "    # Display the last row\n",
    "    print(\"\\nLast row of the dataset:\")\n",
    "    print(data.tail(1))\n",
    "    \n",
    "    # Step 1: Remove rows where any value in the first 8 columns is 0\n",
    "    # We check if there are any zeroes in the first 8 columns (columns 0 to 7)\n",
    "    rows_to_remove = (data.iloc[:, :8] == 0).any(axis=1)\n",
    "    \n",
    "    # Step 2: Remove the rows with zeroes in the first 8 columns\n",
    "    data_cleaned = data[~rows_to_remove]\n",
    "    \n",
    "    # Display dataset properties after cleaning\n",
    "    print(f\"\\nThe dataset has {data_cleaned.shape[0]} rows and {data_cleaned.shape[1]} columns after removing rows with zeroes.\")\n",
    "    \n",
    "    # Display the first 5 rows after cleaning\n",
    "    print(\"\\nFirst 5 rows after cleaning:\")\n",
    "    print(data_cleaned.head())\n",
    "\n",
    "else:\n",
    "    print(f\"Failed to retrieve file. Status code: {response.status_code}\")\n"
   ]
  },
  {
   "cell_type": "markdown",
   "id": "469bdb74-247a-4e30-b676-0ee37f497498",
   "metadata": {},
   "source": [
    "Store variables with labels for use later"
   ]
  },
  {
   "cell_type": "code",
   "execution_count": 10,
   "id": "fea48ad7-4e55-4f74-b6d0-b796fb9c299d",
   "metadata": {},
   "outputs": [],
   "source": [
    "# Store variables with labels for use later\n",
    "title = \"Pima Indians Diabetes Dataset\"\n",
    "x_label = \"Feature Variable: Body Mass Index\"\n",
    "y_label = \"Onset of Diabetes\""
   ]
  },
  {
   "cell_type": "markdown",
   "id": "9709f9a8-af3e-451c-ac3f-66f46359904f",
   "metadata": {},
   "source": [
    "Convert the data into a different format "
   ]
  },
  {
   "cell_type": "code",
   "execution_count": 11,
   "id": "1f817ce1-a0f4-476d-aa33-c9b011ef4ad4",
   "metadata": {},
   "outputs": [
    {
     "name": "stdout",
     "output_type": "stream",
     "text": [
      "\n",
      "First 5 rows of x_train (features):\n",
      " [[1.00e+00 8.90e+01 6.60e+01 2.30e+01 9.40e+01 2.81e+01 1.67e-01 2.10e+01]\n",
      " [3.00e+00 7.80e+01 5.00e+01 3.20e+01 8.80e+01 3.10e+01 2.48e-01 2.60e+01]\n",
      " [2.00e+00 1.97e+02 7.00e+01 4.50e+01 5.43e+02 3.05e+01 1.58e-01 5.30e+01]\n",
      " [1.00e+00 1.89e+02 6.00e+01 2.30e+01 8.46e+02 3.01e+01 3.98e-01 5.90e+01]\n",
      " [5.00e+00 1.66e+02 7.20e+01 1.90e+01 1.75e+02 2.58e+01 5.87e-01 5.10e+01]]\n",
      "\n",
      "First 5 values of y_train (target): [0. 1. 1. 1. 1.]\n",
      "\n",
      "The shape of x_train is: (336, 8)\n",
      "The shape of y_train is: (336,)\n",
      "Number of training examples (m): 336\n"
     ]
    }
   ],
   "source": [
    "# Convert cleaned data to a numpy array\n",
    "data_array = data_cleaned.to_numpy()  # Convert the cleaned DataFrame to a numpy array\n",
    "\n",
    "# Extract features (X values) ensuring a 2D shape\n",
    "x_train = data_array[:, :-1]  # Extract all rows, all columns except the last (features)\n",
    "\n",
    "# Extract target values (Y values) (the last column contains the target variable, Diabetes)\n",
    "y_train = data_array[:, -1]  # Extract all rows, last column (target variable, Diabetes)\n",
    "\n",
    "# Display first 5 rows of the features and target variable\n",
    "print(\"\\nFirst 5 rows of x_train (features):\\n\", x_train[:5])  # First 5 feature values\n",
    "print(\"\\nFirst 5 values of y_train (target):\", y_train[:5])  # First 5 target values\n",
    "\n",
    "# Display the shapes of x_train and y_train\n",
    "print('\\nThe shape of x_train is:', x_train.shape)  \n",
    "print('The shape of y_train is:', y_train.shape) \n",
    "print('Number of training examples (m):', len(x_train))\n"
   ]
  },
  {
   "cell_type": "markdown",
   "id": "7716f452-d2a5-4b0a-83f4-1ff73ab4c960",
   "metadata": {},
   "source": [
    "Plot the data"
   ]
  },
  {
   "cell_type": "markdown",
   "id": "b02e268b-46e2-41c9-a869-a58203e2ad94",
   "metadata": {},
   "source": [
    "Run logistic regression using scikit-learn"
   ]
  },
  {
   "cell_type": "code",
   "execution_count": 46,
   "id": "eec3a6d4-4b1f-4ac6-b94d-78481404c1bd",
   "metadata": {},
   "outputs": [
    {
     "name": "stdout",
     "output_type": "stream",
     "text": [
      "Prediction on training set: [0. 0. 1. 1. 1. 0. 0. 0. 1. 0. 0. 1. 1. 0. 0. 1. 1. 1. 0. 0. 0. 1. 1. 1.\n",
      " 0. 0. 0. 0. 0. 0. 0. 0. 0. 1. 0. 0. 0. 1. 0. 0. 1. 0. 0. 0. 0. 1. 1. 0.\n",
      " 1. 0. 0. 0. 0. 0. 0. 1. 1. 0. 0. 0. 0. 0. 0. 0. 1. 1. 0. 0. 0. 1. 0. 0.\n",
      " 0. 0. 0. 0. 1. 1. 1. 0. 0. 0. 1. 0. 0. 0. 0. 0. 1. 0. 0. 1. 0. 0. 1. 0.\n",
      " 0. 1. 1. 0. 0. 1. 0. 0. 0. 0. 0. 0. 1. 1. 1. 0. 0. 0. 0. 0. 0. 0. 1. 1.\n",
      " 1. 0. 0. 1. 0. 1. 0. 0. 0. 0. 0. 1. 0. 0. 0. 0. 0. 0. 0. 1. 0. 0. 0. 0.\n",
      " 0. 0. 1. 0. 0. 1. 0. 0. 0. 0. 0. 1. 1. 0. 0. 0. 0. 1. 0. 0. 1. 0. 0. 0.\n",
      " 0. 0. 0. 1. 0. 0. 0. 0. 0. 0. 0. 0. 1. 0. 1. 0. 1. 0. 0. 0. 1. 1. 1. 0.\n",
      " 0. 0. 0. 0. 0. 0. 0. 0. 1. 1. 0. 0. 1. 0. 0. 0. 1. 0. 0. 0. 0. 0. 1. 1.\n",
      " 0. 0. 0. 0. 0. 0. 1. 0. 0. 0. 0. 0. 0. 0. 0. 1. 0. 0. 0. 0. 1. 1. 0. 1.\n",
      " 0. 0. 0. 0. 0. 0. 0. 0. 0. 1. 0. 0. 0. 0. 0. 1. 1. 0. 0. 0. 0. 0. 1. 1.\n",
      " 0. 0. 0. 1. 1. 1. 0. 0. 0. 0. 0. 0. 0. 0. 1. 0. 0. 0. 0. 0. 0. 0. 0. 1.\n",
      " 0. 1. 1. 0. 0. 1. 1. 0. 1. 0. 0. 0. 0. 1. 0. 1. 0. 0. 0. 0. 0. 0. 0. 0.\n",
      " 0. 1. 1. 0. 0. 0. 0. 0. 0. 1. 0. 0. 1. 0. 0. 1. 0. 0. 1. 0. 1. 0. 0. 0.]\n",
      "Sci-kit learn logistic regression accuracy on training set: 0.7916666666666666\n",
      "i.e. the Sci-kit learn logistic regression model can predict the onset of diabetes with 79.2% accuracy\n"
     ]
    }
   ],
   "source": [
    "from sklearn.linear_model import LogisticRegression\n",
    "from sklearn.preprocessing import StandardScaler\n",
    "\n",
    "# Scale the features using StandardScaler\n",
    "scaler = StandardScaler()\n",
    "x_train_scaled = scaler.fit_transform(x_train)\n",
    "\n",
    "# Fit the logistic regression model with scaled features\n",
    "lr_model = LogisticRegression(max_iter=200)\n",
    "lr_model.fit(x_train_scaled, y_train)\n",
    "\n",
    "y_pred = lr_model.predict(x_train_scaled)\n",
    "\n",
    "sci_accuracy = lr_model.score(x_train_scaled, y_train)\n",
    "\n",
    "print(\"Prediction on training set:\", y_pred)\n",
    "print(\"Sci-kit learn logistic regression accuracy on training set:\", sci_accuracy)\n",
    "print(f\"i.e. the Sci-kit learn logistic regression model can predict the onset of diabetes with {sci_accuracy*100:.1f}% accuracy\")\n"
   ]
  },
  {
   "cell_type": "code",
   "execution_count": 26,
   "id": "76601e1c-e964-474a-ad73-ee3890af993d",
   "metadata": {},
   "outputs": [
    {
     "data": {
      "image/png": "[encoded data removed]",
      "text/plain": [
       "<Figure size 800x600 with 1 Axes>"
      ]
     },
     "metadata": {},
     "output_type": "display_data"
    }
   ],
   "source": [
    "# Choose the BMI feature (6th column in x_train, which is at index 5)\n",
    "x_feature = x_train[:, 5]  # BMI levels\n",
    "\n",
    "# Create the figure and axis\n",
    "plt.figure(figsize=(8, 6))\n",
    "\n",
    "# Loop over the dataset and plot with different markers for correct and incorrect predictions\n",
    "for i in range(len(y_train)):\n",
    "    if y_pred[i] == y_train[i]:  # Correct prediction\n",
    "        plt.scatter(x_feature[i], y_train[i], marker='o', color='green', alpha=0.7)\n",
    "    else:  # Incorrect prediction\n",
    "        plt.scatter(x_feature[i], y_train[i], marker='o', color='red', alpha=0.7)\n",
    "\n",
    "# Set the title of the plot\n",
    "plt.title(title)\n",
    "\n",
    "# Set the y-axis label\n",
    "plt.ylabel(y_label)\n",
    "\n",
    "# Set the x-axis label\n",
    "plt.xlabel(x_label)\n",
    "\n",
    "# Customize the y-axis to show only 0 and 1\n",
    "plt.yticks([0, 1])\n",
    "\n",
    "# Optionally add a grid to make the plot clearer\n",
    "plt.grid(True)\n",
    "\n",
    "# Add a legend positioned halfway down the plot height\n",
    "plt.legend([\"Correct Prediction\", \"Incorrect Prediction\"], loc=\"center right\", bbox_to_anchor=(1.15, 0.5))\n",
    "\n",
    "# Show the plot\n",
    "plt.show()\n"
   ]
  },
  {
   "cell_type": "markdown",
   "id": "79bcdeb7-4146-4367-abb5-f768e046458e",
   "metadata": {},
   "source": [
    "Run logistic regression manually "
   ]
  },
  {
   "cell_type": "code",
   "execution_count": 33,
   "id": "e1c5e0ea-8254-426e-9e08-734db3f4997e",
   "metadata": {},
   "outputs": [],
   "source": [
    "# Sigmoid function for logistic regression\n",
    "def sigmoid(z):\n",
    "    return 1 / (1 + np.exp(-z))"
   ]
  },
  {
   "cell_type": "code",
   "execution_count": 34,
   "id": "e4c0e743-8ddc-443f-bc4e-460a285369bb",
   "metadata": {},
   "outputs": [],
   "source": [
    "# cost function for regularised logistic regression\n",
    "def compute_cost_logistic_reg(X, y, w, b, lambda_):\n",
    "    \"\"\"\n",
    "    Computes the cost over all examples\n",
    "    Args:\n",
    "    Args:\n",
    "      X (ndarray (m,n): Data, m examples with n features\n",
    "      y (ndarray (m,)): target values\n",
    "      w (ndarray (n,)): model parameters  \n",
    "      b (scalar)      : model parameter\n",
    "      lambda_ (scalar): Controls amount of regularization\n",
    "    Returns:\n",
    "      total_cost (scalar):  cost \n",
    "    \"\"\"\n",
    "\n",
    "    m,n  = X.shape\n",
    "    cost = 0.\n",
    "    for i in range(m):\n",
    "        z_i = np.dot(X[i], w) + b                                      #(n,)(n,)=scalar, see np.dot\n",
    "        f_wb_i = sigmoid(z_i)                                          #scalar\n",
    "        cost +=  -y[i]*np.log(f_wb_i) - (1-y[i])*np.log(1-f_wb_i)      #scalar\n",
    "             \n",
    "    cost = cost/m                                                      #scalar\n",
    "\n",
    "    reg_cost = 0\n",
    "    for j in range(n):\n",
    "        reg_cost += (w[j]**2)                                          #scalar\n",
    "    reg_cost = (lambda_/(2*m)) * reg_cost                              #scalar\n",
    "    \n",
    "    total_cost = cost + reg_cost                                       #scalar\n",
    "    return total_cost                                                  #scalar"
   ]
  },
  {
   "cell_type": "code",
   "execution_count": 35,
   "id": "9e6daa23-c047-494a-b463-f063fe87f63d",
   "metadata": {},
   "outputs": [],
   "source": [
    "# computes the gradient for logistic regression\n",
    "\n",
    "def compute_gradient_logistic_reg(X, y, w, b, lambda_): \n",
    "    \"\"\"\n",
    "    Computes the gradient for logistic regression \n",
    " \n",
    "    Args:\n",
    "      X (ndarray (m,n): Data, m examples with n features\n",
    "      y (ndarray (m,)): target values\n",
    "      w (ndarray (n,)): model parameters  \n",
    "      b (scalar)      : model parameter\n",
    "      lambda_ (scalar): Controls amount of regularization\n",
    "    Returns\n",
    "      dj_dw (ndarray Shape (n,)): The gradient of the cost w.r.t. the parameters w. \n",
    "      dj_db (scalar)            : The gradient of the cost w.r.t. the parameter b. \n",
    "    \"\"\"\n",
    "    m,n = X.shape\n",
    "    dj_dw = np.zeros((n,))                            #(n,)\n",
    "    dj_db = 0.0                                       #scalar\n",
    "\n",
    "    for i in range(m):\n",
    "        f_wb_i = sigmoid(np.dot(X[i],w) + b)          #(n,)(n,)=scalar\n",
    "        err_i  = f_wb_i  - y[i]                       #scalar\n",
    "        for j in range(n):\n",
    "            dj_dw[j] = dj_dw[j] + err_i * X[i,j]      #scalar\n",
    "        dj_db = dj_db + err_i\n",
    "    dj_dw = dj_dw/m                                   #(n,)\n",
    "    dj_db = dj_db/m                                   #scalar\n",
    "\n",
    "    for j in range(n):\n",
    "        dj_dw[j] = dj_dw[j] + (lambda_/m) * w[j]\n",
    "\n",
    "    return dj_db, dj_dw  "
   ]
  },
  {
   "cell_type": "code",
   "execution_count": 36,
   "id": "39d9cb4e-cad4-4d40-852b-90ff7a6e16a5",
   "metadata": {},
   "outputs": [],
   "source": [
    "# function for batch gradient descent\n",
    "def gradient_descent(X, y, w_in, b_in, cost_function, gradient_function, alpha, num_iters, lambda_): \n",
    "    \"\"\"\n",
    "    Performs batch gradient descent to learn theta. Updates theta by taking \n",
    "    num_iters gradient steps with learning rate alpha\n",
    "    \n",
    "    Args:\n",
    "      X :    (ndarray Shape (m, n) data, m examples by n features\n",
    "      y :    (ndarray Shape (m,))  target value \n",
    "      w_in : (ndarray Shape (n,))  Initial values of parameters of the model\n",
    "      b_in : (scalar)              Initial value of parameter of the model\n",
    "      cost_function :              function to compute cost\n",
    "      gradient_function :          function to compute gradient\n",
    "      alpha : (float)              Learning rate\n",
    "      num_iters : (int)            number of iterations to run gradient descent\n",
    "      lambda_ : (scalar, float)    controls amount of regularization\n",
    "      \n",
    "    Returns:\n",
    "      w : (ndarray Shape (n,)) Updated values of parameters of the model after\n",
    "          running gradient descent\n",
    "      b : (scalar)                Updated value of parameter of the model after\n",
    "          running gradient descent\n",
    "\n",
    "      J_history :     (ndarray Shape (num_iters,))  J,w history for graphing\n",
    "      w_history:      (ndarray Shape (num_iters,))  w history for graphing\n",
    "    \"\"\"\n",
    "    \n",
    "    # number of training examples\n",
    "    m = len(X)\n",
    "    \n",
    "    # An array to store cost J and w's at each iteration primarily for graphing later\n",
    "    J_history = []\n",
    "    w_history = []\n",
    "    \n",
    "    for i in range(num_iters):\n",
    "\n",
    "        # Calculate the gradient and update the parameters\n",
    "        dj_db, dj_dw = gradient_function(X, y, w_in, b_in, lambda_)   \n",
    "\n",
    "        # Update Parameters using w, b, alpha and gradient\n",
    "        w_in = w_in - alpha * dj_dw               \n",
    "        b_in = b_in - alpha * dj_db              \n",
    "       \n",
    "        # Save cost J at each iteration\n",
    "        if i<100000:      # prevent resource exhaustion \n",
    "            cost =  cost_function(X, y, w_in, b_in, lambda_)\n",
    "            J_history.append(cost)\n",
    "\n",
    "        # Print cost every at intervals 10 times or as many iterations if < 10\n",
    "        if i% math.ceil(num_iters/10) == 0 or i == (num_iters-1):\n",
    "            w_history.append(w_in)\n",
    "            print(f\"Iteration {i:4}: Cost {float(J_history[-1]):8.2f}   \")\n",
    "        \n",
    "    return w_in, b_in, J_history, w_history #return w and J,w history for graphing"
   ]
  },
  {
   "cell_type": "code",
   "execution_count": 37,
   "id": "9b2fd26f-0c2c-426c-867a-0b575cad67af",
   "metadata": {},
   "outputs": [
    {
     "name": "stdout",
     "output_type": "stream",
     "text": [
      "Iteration    0: Cost     0.69   \n",
      "Iteration  150: Cost     0.58   \n",
      "Iteration  300: Cost     0.53   \n",
      "Iteration  450: Cost     0.50   \n",
      "Iteration  600: Cost     0.49   \n",
      "Iteration  750: Cost     0.47   \n",
      "Iteration  900: Cost     0.47   \n",
      "Iteration 1050: Cost     0.46   \n",
      "Iteration 1200: Cost     0.46   \n",
      "Iteration 1350: Cost     0.45   \n",
      "Iteration 1499: Cost     0.45   \n",
      "Model parameters after training (normalized scale):\n",
      "w (normalized): [0.23382687 0.63964124 0.14913038 0.18118724 0.23330578 0.24779904\n",
      " 0.23233822 0.32778566]\n",
      "b (normalized): -0.6594900219276792\n"
     ]
    }
   ],
   "source": [
    "# Step 1 - Normalize the features (Standardization)\n",
    "x_mean_m = np.mean(x_train, axis=0)  # Compute mean for each feature\n",
    "x_std_m = np.std(x_train, axis=0)    # Compute standard deviation for each feature\n",
    "x_train_norm_m = (x_train - x_mean_m) / x_std_m  # Standardize the feature values\n",
    "\n",
    "# Step 2: Initialize Parameters\n",
    "initial_w = np.random.randn(x_train.shape[1]) * 0.01  # Small random values for weights\n",
    "initial_b = 0  # Initial bias value\n",
    "\n",
    "# Step 3: Gradient Descent Settings\n",
    "iterations = 1500   # Number of iterations for gradient descent\n",
    "alpha = 0.005       # Learning rate\n",
    "lambda_ = 0.01      # Regularization parameter\n",
    "\n",
    "# Step 4: Train the Model Using Gradient Descent\n",
    "w_norm_m, b_norm_m, J_hist, w_hist = gradient_descent(\n",
    "    x_train_norm_m, y_train, initial_w, initial_b, \n",
    "    compute_cost_logistic_reg, compute_gradient_logistic_reg,\n",
    "    alpha, iterations, lambda_\n",
    ")\n",
    "\n",
    "# Display model parameters after training\n",
    "print(\"Model parameters after training (normalized scale):\")\n",
    "print(f\"w (normalized): {w_norm_m}\")\n",
    "print(f\"b (normalized): {b_norm_m}\")\n"
   ]
  },
  {
   "cell_type": "code",
   "execution_count": 47,
   "id": "e277a3a6-0880-415e-98c9-a2bc9174c448",
   "metadata": {},
   "outputs": [
    {
     "name": "stdout",
     "output_type": "stream",
     "text": [
      "\n",
      "Converted Model Parameters (Original Scale):\n",
      "w (original scale): [0.07438039 0.02080892 0.01208024 0.0177034  0.00196716 0.03896779\n",
      " 0.71007744 0.03138846]\n",
      "b (original scale): -7.778223352717669\n",
      "Accuracy of the manual logistic regression model: 0.7768\n",
      "i.e. the manual logistic regression model can predict the onset of diabetes with 77.7% accuracy\n"
     ]
    },
    {
     "data": {
      "image/png": "[encoded data removed]",
      "text/plain": [
       "<Figure size 800x600 with 1 Axes>"
      ]
     },
     "metadata": {},
     "output_type": "display_data"
    }
   ],
   "source": [
    "# Step 5: Compute Predictions using the trained model\n",
    "z_pred = np.dot(x_train_norm_m, w_norm_m) + b_norm_m  # Linear combination\n",
    "y_pred_prob = sigmoid(z_pred)  # Convert to probability using sigmoid function\n",
    "y_pred_norm_m = (y_pred_prob >= 0.5).astype(int)  # Convert probabilities to binary predictions\n",
    "\n",
    "# Step 6: Convert Model Parameters Back to Original Scale\n",
    "# Convert weights back to the original scale\n",
    "w_original_m = w_norm_m / x_std_m  \n",
    "\n",
    "# Convert bias back to original scale\n",
    "b_original_m = b_norm_m - np.sum((w_norm_m * x_mean_m) / x_std_m)\n",
    "\n",
    "print(\"\\nConverted Model Parameters (Original Scale):\")\n",
    "print(f\"w (original scale): {w_original_m}\")\n",
    "print(f\"b (original scale): {b_original_m}\")\n",
    "\n",
    "# Step 7: Compute Predictions in Original Scale\n",
    "z_pred_original = np.dot(x_train, w_original_m) + b_original_m  # Compute z in original scale\n",
    "y_pred_prob_original = sigmoid(z_pred_original)  # Convert to probability\n",
    "y_pred_original_m = (y_pred_prob_original >= 0.5).astype(int)  # Convert to binary predictions\n",
    "\n",
    "# Step 8: Compute Accuracy of the model over the training dataset\n",
    "# Convert predictions to binary outcomes (0 or 1) using a threshold of 0.5\n",
    "y_pred_binary_m = (y_pred_original_m >= 0.5).astype(int)\n",
    "\n",
    "# Compute accuracy\n",
    "accuracy_m = np.mean(y_pred_binary_m == y_train)\n",
    "\n",
    "# Print the accuracy\n",
    "print(f\"Accuracy of the manual logistic regression model: {accuracy_m:.4f}\")\n",
    "print(f\"i.e. the manual logistic regression model can predict the onset of diabetes with {accuracy_m*100:.1f}% accuracy\")\n",
    "\n",
    "# Step 9: Plot the Results\n",
    "\n",
    "# Choose the BMI feature (6th column in x_train, which is at index 5)\n",
    "x_feature = x_train[:, 5]  # BMI levels\n",
    "\n",
    "# Create the figure and axis\n",
    "plt.figure(figsize=(8, 6))\n",
    "\n",
    "# Loop over the dataset and plot with different markers for correct and incorrect predictions\n",
    "for i in range(len(y_train)):\n",
    "    if y_pred_original_m[i] == y_train[i]:  # Correct prediction\n",
    "        plt.scatter(x_feature[i], y_train[i], marker='o', color='green', alpha=0.7)\n",
    "    else:  # Incorrect prediction\n",
    "        plt.scatter(x_feature[i], y_train[i], marker='o', color='red', alpha=0.7)\n",
    "\n",
    "# Set the title of the plot\n",
    "plt.title(\"Pima Indians Diabetes Dataset - Manual Logistic Regression Predictions\")\n",
    "\n",
    "# Set the y-axis label\n",
    "plt.ylabel(\"Onset of Diabetes\")\n",
    "\n",
    "# Set the x-axis label\n",
    "plt.xlabel(\"Feature Variable: Body Mass Index\")\n",
    "\n",
    "# Customize the y-axis to show only 0 and 1\n",
    "plt.yticks([0, 1])\n",
    "\n",
    "# Optionally add a grid to make the plot clearer\n",
    "plt.grid(True)\n",
    "\n",
    "# Add a legend positioned halfway down the plot height\n",
    "plt.legend([\"Correct Prediction\", \"Incorrect Prediction\"], loc=\"center right\", bbox_to_anchor=(1.15, 0.5))\n",
    "\n",
    "# Show the plot\n",
    "plt.show()\n"
   ]
  },
  {
   "cell_type": "markdown",
   "id": "e7b6d317-df9f-4ebb-bc73-eadb8e4a7bab",
   "metadata": {},
   "source": [
    "Comparing outputs of scikit-learn linear regression and the manual linear regression:"
   ]
  },
  {
   "cell_type": "code",
   "execution_count": 51,
   "id": "b1997c37-2ac3-4441-aecd-55da0e005527",
   "metadata": {},
   "outputs": [
    {
     "name": "stdout",
     "output_type": "stream",
     "text": [
      "Baseline accuracy: 0.650\n",
      "Sci-kit learn logistic regression accuracy on training set: 0.792\n",
      "Manual logistic regression accuracy on training set: 0.777\n",
      "The Sci-kit learn logistic regression model is performing better than the baseline.\n",
      "The manual linear regression model is performing better than the baseline.\n"
     ]
    }
   ],
   "source": [
    "baseline_accuracy = 0.65\n",
    "\n",
    "print(f\"Baseline accuracy: {baseline_accuracy:.3f}\")\n",
    "print(f\"Sci-kit learn logistic regression accuracy on training set: {sci_accuracy:.3f}\")\n",
    "print(f\"Manual logistic regression accuracy on training set: {accuracy_m:.3f}\")\n",
    "\n",
    "if sci_accuracy > baseline_accuracy:\n",
    "    print(\"The Sci-kit learn logistic regression model is performing better than the baseline.\")\n",
    "else:\n",
    "    print(\"The Sci-kit learn logistic regression model is performing worse than the baseline.\")   \n",
    "\n",
    "if accuracy_m > baseline_accuracy:\n",
    "    print(\"The manual linear regression model is performing better than the baseline.\")\n",
    "else:\n",
    "    print(\"The manual linear regression model is performing worse than the baseline.\")\n"
   ]
  },
  {
   "cell_type": "code",
   "execution_count": null,
   "id": "1279da48-0e8a-42a8-9f99-408ae221c9fd",
   "metadata": {},
   "outputs": [],
   "source": []
  }
 ],
 "metadata": {
  "kernelspec": {
   "display_name": "Python 3 (ipykernel)",
   "language": "python",
   "name": "python3"
  },
  "language_info": {
   "codemirror_mode": {
    "name": "ipython",
    "version": 3
   },
   "file_extension": ".py",
   "mimetype": "text/x-python",
   "name": "python",
   "nbconvert_exporter": "python",
   "pygments_lexer": "ipython3",
   "version": "3.13.2"
  }
 },
 "nbformat": 4,
 "nbformat_minor": 5
}
